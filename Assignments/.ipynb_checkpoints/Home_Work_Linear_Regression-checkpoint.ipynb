{
 "cells": [
  {
   "cell_type": "markdown",
   "metadata": {},
   "source": [
    "## Homework Linear Regression\n",
    "\n",
    "- The dataset you are working is Boston Housing Price\n",
    "\n",
    "- The Boston_Housing_Prices dataset is a famous dataset usually used for learning or benchmarking regression techniques. This dataset contains 14 variables, one of which (MEDV, median value of home) we'll use as the target. \n",
    "\n",
    "- For this assignment, your task is to:\n",
    "\n",
    "1- Read in the dataset using sklearn's load_boston() function (found in sklearn.datasets) \n",
    "\n",
    "2- Perform some basic exploratory data analysis to get a feel for the data. Graph some stuff! \n",
    "\n",
    "3- Create a correlation heatmap to check to see how highly correlated our predictor variables (features) are (Remember, if our predictors are highly correlated, this is bad.)\n",
    "\n",
    "4- Train the model based on the train set. Use 75 percent of the data for train part. Use 25 percent of the data for test part.\n",
    "\n",
    "Hint: `from sklearn.model_selection import train_test_split`\n",
    "\n",
    "Hint: `X_train, X_test, y_train, y_test = train_test_split(X, y, test_size=0.25, random_state=0)`\n",
    "\n",
    "5 -Make predictions on your test set (X_test) and see how well it compares to the actual targets (y_test) from the test set.\n",
    "\n",
    "6- Compute, Mean-Square-Error (MSE) and R Squared score of your Model \n",
    "\n",
    "Hint: `from sklearn.metrics import r2_score`\n",
    "\n",
    "Hint: `from sklearn.metrics import mean_squared_error`"
   ]
  },
  {
   "cell_type": "code",
   "execution_count": 3,
   "metadata": {},
   "outputs": [
    {
     "name": "stdout",
     "output_type": "stream",
     "text": [
      "[[6.3200e-03 1.8000e+01 2.3100e+00 ... 1.5300e+01 3.9690e+02 4.9800e+00]\n",
      " [2.7310e-02 0.0000e+00 7.0700e+00 ... 1.7800e+01 3.9690e+02 9.1400e+00]\n",
      " [2.7290e-02 0.0000e+00 7.0700e+00 ... 1.7800e+01 3.9283e+02 4.0300e+00]\n",
      " ...\n",
      " [6.0760e-02 0.0000e+00 1.1930e+01 ... 2.1000e+01 3.9690e+02 5.6400e+00]\n",
      " [1.0959e-01 0.0000e+00 1.1930e+01 ... 2.1000e+01 3.9345e+02 6.4800e+00]\n",
      " [4.7410e-02 0.0000e+00 1.1930e+01 ... 2.1000e+01 3.9690e+02 7.8800e+00]]\n",
      "(506, 13)\n"
     ]
    },
    {
     "data": {
      "text/html": [
       "<div>\n",
       "<style scoped>\n",
       "    .dataframe tbody tr th:only-of-type {\n",
       "        vertical-align: middle;\n",
       "    }\n",
       "\n",
       "    .dataframe tbody tr th {\n",
       "        vertical-align: top;\n",
       "    }\n",
       "\n",
       "    .dataframe thead th {\n",
       "        text-align: right;\n",
       "    }\n",
       "</style>\n",
       "<table border=\"1\" class=\"dataframe\">\n",
       "  <thead>\n",
       "    <tr style=\"text-align: right;\">\n",
       "      <th></th>\n",
       "      <th>CRIM</th>\n",
       "      <th>ZN</th>\n",
       "      <th>INDUS</th>\n",
       "      <th>CHAS</th>\n",
       "      <th>NOX</th>\n",
       "      <th>RM</th>\n",
       "      <th>AGE</th>\n",
       "      <th>DIS</th>\n",
       "      <th>RAD</th>\n",
       "      <th>TAX</th>\n",
       "      <th>PTRATIO</th>\n",
       "      <th>B</th>\n",
       "      <th>LSTAT</th>\n",
       "      <th>MEDV</th>\n",
       "    </tr>\n",
       "  </thead>\n",
       "  <tbody>\n",
       "    <tr>\n",
       "      <td>0</td>\n",
       "      <td>0.00632</td>\n",
       "      <td>18.0</td>\n",
       "      <td>2.31</td>\n",
       "      <td>0.0</td>\n",
       "      <td>0.538</td>\n",
       "      <td>6.575</td>\n",
       "      <td>65.2</td>\n",
       "      <td>4.0900</td>\n",
       "      <td>1.0</td>\n",
       "      <td>296.0</td>\n",
       "      <td>15.3</td>\n",
       "      <td>396.90</td>\n",
       "      <td>4.98</td>\n",
       "      <td>24.0</td>\n",
       "    </tr>\n",
       "    <tr>\n",
       "      <td>1</td>\n",
       "      <td>0.02731</td>\n",
       "      <td>0.0</td>\n",
       "      <td>7.07</td>\n",
       "      <td>0.0</td>\n",
       "      <td>0.469</td>\n",
       "      <td>6.421</td>\n",
       "      <td>78.9</td>\n",
       "      <td>4.9671</td>\n",
       "      <td>2.0</td>\n",
       "      <td>242.0</td>\n",
       "      <td>17.8</td>\n",
       "      <td>396.90</td>\n",
       "      <td>9.14</td>\n",
       "      <td>21.6</td>\n",
       "    </tr>\n",
       "    <tr>\n",
       "      <td>2</td>\n",
       "      <td>0.02729</td>\n",
       "      <td>0.0</td>\n",
       "      <td>7.07</td>\n",
       "      <td>0.0</td>\n",
       "      <td>0.469</td>\n",
       "      <td>7.185</td>\n",
       "      <td>61.1</td>\n",
       "      <td>4.9671</td>\n",
       "      <td>2.0</td>\n",
       "      <td>242.0</td>\n",
       "      <td>17.8</td>\n",
       "      <td>392.83</td>\n",
       "      <td>4.03</td>\n",
       "      <td>34.7</td>\n",
       "    </tr>\n",
       "    <tr>\n",
       "      <td>3</td>\n",
       "      <td>0.03237</td>\n",
       "      <td>0.0</td>\n",
       "      <td>2.18</td>\n",
       "      <td>0.0</td>\n",
       "      <td>0.458</td>\n",
       "      <td>6.998</td>\n",
       "      <td>45.8</td>\n",
       "      <td>6.0622</td>\n",
       "      <td>3.0</td>\n",
       "      <td>222.0</td>\n",
       "      <td>18.7</td>\n",
       "      <td>394.63</td>\n",
       "      <td>2.94</td>\n",
       "      <td>33.4</td>\n",
       "    </tr>\n",
       "    <tr>\n",
       "      <td>4</td>\n",
       "      <td>0.06905</td>\n",
       "      <td>0.0</td>\n",
       "      <td>2.18</td>\n",
       "      <td>0.0</td>\n",
       "      <td>0.458</td>\n",
       "      <td>7.147</td>\n",
       "      <td>54.2</td>\n",
       "      <td>6.0622</td>\n",
       "      <td>3.0</td>\n",
       "      <td>222.0</td>\n",
       "      <td>18.7</td>\n",
       "      <td>396.90</td>\n",
       "      <td>5.33</td>\n",
       "      <td>36.2</td>\n",
       "    </tr>\n",
       "  </tbody>\n",
       "</table>\n",
       "</div>"
      ],
      "text/plain": [
       "      CRIM    ZN  INDUS  CHAS    NOX     RM   AGE     DIS  RAD    TAX  \\\n",
       "0  0.00632  18.0   2.31   0.0  0.538  6.575  65.2  4.0900  1.0  296.0   \n",
       "1  0.02731   0.0   7.07   0.0  0.469  6.421  78.9  4.9671  2.0  242.0   \n",
       "2  0.02729   0.0   7.07   0.0  0.469  7.185  61.1  4.9671  2.0  242.0   \n",
       "3  0.03237   0.0   2.18   0.0  0.458  6.998  45.8  6.0622  3.0  222.0   \n",
       "4  0.06905   0.0   2.18   0.0  0.458  7.147  54.2  6.0622  3.0  222.0   \n",
       "\n",
       "   PTRATIO       B  LSTAT  MEDV  \n",
       "0     15.3  396.90   4.98  24.0  \n",
       "1     17.8  396.90   9.14  21.6  \n",
       "2     17.8  392.83   4.03  34.7  \n",
       "3     18.7  394.63   2.94  33.4  \n",
       "4     18.7  396.90   5.33  36.2  "
      ]
     },
     "execution_count": 3,
     "metadata": {},
     "output_type": "execute_result"
    }
   ],
   "source": [
    "# import the load_boston() function from sklearn.datasets\n",
    "from sklearn.datasets import load_boston\n",
    "import pandas as pd\n",
    "\n",
    "boston = load_boston()\n",
    "\n",
    "print(boston.data)\n",
    "print(boston.data.shape)\n",
    "\n",
    "bos = pd.DataFrame(boston.data)\n",
    "bos.columns = boston.feature_names\n",
    "bos['MEDV'] = boston.target\n",
    "\n",
    "bos.head()"
   ]
  },
  {
   "cell_type": "code",
   "execution_count": 4,
   "metadata": {},
   "outputs": [],
   "source": [
    "import seaborn as sns\n",
    "import matplotlib.pyplot as plt \n",
    "\n",
    "corr = bos.corr()\n",
    "\n",
    "plt.figure(figsize = (20,20))\n",
    "\n",
    "ax = sns.heatmap(\n",
    "    corr,\n",
    "    annot=True,\n",
    "    vmin=-1, vmax=1, center=0,\n",
    "    cmap=sns.diverging_palette(20, 220, n=200),\n",
    "    square=True\n",
    ")\n",
    "ax.set_xticklabels(\n",
    "    ax.get_xticklabels(),\n",
    "    rotation=45,\n",
    "    horizontalalignment='right'\n",
    ");\n"
   ]
  },
  {
   "cell_type": "code",
   "execution_count": 5,
   "metadata": {},
   "outputs": [
    {
     "name": "stdout",
     "output_type": "stream",
     "text": [
      "[24.95233283 23.61699724 29.20588553 11.96070515 21.33362042 19.46954895\n",
      " 20.42228421 21.52044058 18.98954101 19.950983    4.92468244 16.09694058\n",
      " 16.93599574  5.33508402 39.84434398 32.33549843 22.32772572 36.54017819\n",
      " 31.03300611 23.32172503 24.92086498 24.26106474 20.71504422 30.45072552\n",
      " 22.45009234  9.87470006 17.70324412 17.974775   35.69932012 20.7940972\n",
      " 18.10554174 17.68317865 19.71354713 23.79693873 29.06528958 19.23738284\n",
      " 10.97815878 24.56199978 17.32913052 15.20340817 26.09337458 20.87706795\n",
      " 22.26187518 15.32582693 22.85847963 25.08887173 19.74138819 22.70744911\n",
      "  9.66708558 24.46175926 20.72654169 17.52545047 24.45596997 30.10668865\n",
      " 13.31250981 21.52052342 20.65642932 15.34285652 13.7741129  22.07429287\n",
      " 17.53293957 21.60707766 32.91050188 31.32796114 17.64346364 32.69909854\n",
      " 18.56579207 19.32110821 18.81256692 23.04351442 22.81649956 23.99800754\n",
      " 30.62733254 28.8662207  25.78198145  5.00689605 36.83409088 23.80490328\n",
      " 27.36965299 19.33057146 28.51439846 19.19147448 18.81694283 37.94245021\n",
      " 39.3441055  23.90759744 24.95985846 15.70262358 25.92060968 16.56968829\n",
      " 15.76303806 12.89190083 24.4389405  30.9319885  22.36798609 20.17628607\n",
      "  0.22819711 25.26459847 15.35369364 17.7983399  25.44689554 22.46612234\n",
      " 32.57911019 22.01436262 27.37542798 23.31348039  6.29811532 14.75925592\n",
      " 22.44945223 29.11172812 32.97160856 12.85457141 19.79963356 20.60017439\n",
      " 12.06928939 23.38532482  4.75243811 19.8342911   9.17555571 44.63299931\n",
      " 30.63144603 12.29971299 17.53804831 21.50222331 23.63281301 20.28259817\n",
      " 35.17973368]\n",
      "0.6354638433202124\n"
     ]
    }
   ],
   "source": [
    "from sklearn.model_selection import train_test_split\n",
    "from sklearn.linear_model import LinearRegression\n",
    "\n",
    "# setting predictor (X) and target (y) variables\n",
    "X = bos[boston.feature_names]\n",
    "y = boston.target\n",
    "X_train, X_test, y_train, y_test = train_test_split(X, y, test_size=0.25, random_state=0)\n",
    "\n",
    "medv_reg = LinearRegression()\n",
    "medv_reg.fit(X_train, y_train)\n",
    "print(medv_reg.predict(X_test))\n",
    "print(medv_reg.score(X_test, y_test))\n"
   ]
  },
  {
   "cell_type": "markdown",
   "metadata": {},
   "source": [
    "## Make predictions on test set (X_test)"
   ]
  },
  {
   "cell_type": "code",
   "execution_count": 6,
   "metadata": {},
   "outputs": [
    {
     "data": {
      "text/plain": [
       "Text(0.5, 1.0, 'Actual vs. Predict Median Value of Home')"
      ]
     },
     "execution_count": 6,
     "metadata": {},
     "output_type": "execute_result"
    },
    {
     "data": {
      "image/png": "[encoded data removed]",
      "text/plain": [
       "<Figure size 432x288 with 1 Axes>"
      ]
     },
     "metadata": {
      "needs_background": "light"
     },
     "output_type": "display_data"
    }
   ],
   "source": [
    "y_pred = LinearRegression().fit(X_train, y_train).predict(X_test)\n",
    "sns.distplot(y_test, kde=True, color='red', bins=20, label='Actual MEDV')\n",
    "sns.distplot(y_pred, kde=True, bins=20, label='Predicted MEDV')\n",
    "plt.legend()\n",
    "plt.title('Actual vs. Predict Median Value of Home')\n"
   ]
  },
  {
   "cell_type": "markdown",
   "metadata": {},
   "source": [
    "## Compute Mean-Square-Error (MSE) and R Squared score \n",
    "\n"
   ]
  },
  {
   "cell_type": "code",
   "execution_count": 7,
   "metadata": {},
   "outputs": [
    {
     "name": "stdout",
     "output_type": "stream",
     "text": [
      "==> Coefficient: [-1.17735289e-01  4.40174969e-02 -5.76814314e-03  2.39341594e+00\n",
      " -1.55894211e+01  3.76896770e+00 -7.03517828e-03 -1.43495641e+00\n",
      "  2.40081086e-01 -1.12972810e-02 -9.85546732e-01  8.44443453e-03\n",
      " -4.99116797e-01]\n",
      "==> Y-intercept: 36.93325545711978\n"
     ]
    }
   ],
   "source": [
    "reg = LinearRegression()\n",
    "reg.fit(X_train, y_train)\n",
    "print(f\"==> Coefficient: {reg.coef_}\")\n",
    "print(f\"==> Y-intercept: {reg.intercept_}\")\n",
    "\n"
   ]
  },
  {
   "cell_type": "markdown",
   "metadata": {},
   "source": [
    "### R-squared"
   ]
  },
  {
   "cell_type": "code",
   "execution_count": 8,
   "metadata": {},
   "outputs": [
    {
     "name": "stdout",
     "output_type": "stream",
     "text": [
      "0.6354638433202124\n"
     ]
    }
   ],
   "source": [
    "from sklearn.metrics import r2_score, mean_squared_error\n",
    "\n",
    "y_predict = reg.predict(X_test)\n",
    "print(r2_score(y_test, y_predict))\n",
    "\n"
   ]
  },
  {
   "cell_type": "markdown",
   "metadata": {},
   "source": [
    "### MSE"
   ]
  },
  {
   "cell_type": "code",
   "execution_count": 9,
   "metadata": {},
   "outputs": [
    {
     "name": "stdout",
     "output_type": "stream",
     "text": [
      "29.7822450923024\n"
     ]
    }
   ],
   "source": [
    "print(mean_squared_error(y_test, y_predict))"
   ]
  },
  {
   "cell_type": "markdown",
   "metadata": {},
   "source": [
    "## Apply data normalization (Scaling) to improve the prediction result\n",
    "\n",
    "- Use StandardScaler and then train your Linear Regression Model. Comapre the R Square score with previous one you got\n",
    "\n",
    "- Use MinMaxScaler and then train your Linear Regression Model. Comapre the R Square score with previous one you got\n",
    "\n",
    "- Watch this video: https://www.youtube.com/watch?v=YKP31T5LIXQ"
   ]
  },
  {
   "cell_type": "code",
   "execution_count": 10,
   "metadata": {},
   "outputs": [],
   "source": [
    "from sklearn.pipeline import make_pipeline\n",
    "import time\n",
    "\n",
    "def build_model_for_data(data, target):\n",
    "    X_train, X_test, y_train, y_test = train_test_split(data, target, random_state=2)\n",
    "    pipline = make_pipeline(LinearRegression())\n",
    "    model = timer(lambda: pipeline.fit(X_train, y_train))\n",
    "    return (X_test, y_test, model)"
   ]
  },
  {
   "cell_type": "markdown",
   "metadata": {},
   "source": [
    "### Use StandardScaler to train Linear Regression Model"
   ]
  },
  {
   "cell_type": "code",
   "execution_count": 14,
   "metadata": {},
   "outputs": [
    {
     "name": "stdout",
     "output_type": "stream",
     "text": [
      "Printing the coefficient and y intercept:\n",
      "==> Coefficient: [-1.01170421  1.02558108 -0.03953238  0.60731239 -1.80467996  2.64552328\n",
      " -0.19783648 -3.018615    2.0883816  -1.90212879 -2.13154559  0.77017134\n",
      " -3.56070005]\n",
      "==> Y-intercept: 22.408806103291376\n",
      "--------------------------------------------------------\n",
      "Model r^2-score: 0.6354638433202131\n",
      "Model MSE: 29.78224509230235\n"
     ]
    }
   ],
   "source": [
    "from sklearn.preprocessing import StandardScaler, MinMaxScaler\n",
    "# from sklearn.linear_model import LinearRegression\n",
    "\n",
    "standard_scaler = StandardScaler()\n",
    "X_ss = standard_scaler.fit_transform(boston.data)\n",
    "# print(X_ss)\n",
    "X_train, X_test, y_train, y_test = train_test_split(X_ss, boston.target, test_size=0.25, random_state=0)\n",
    "\n",
    "\n",
    "reg = LinearRegression()\n",
    "reg.fit(X_train, y_train)\n",
    "print(\"Printing the coefficient and y intercept:\")\n",
    "print(f\"==> Coefficient: {reg.coef_}\")\n",
    "print(f\"==> Y-intercept: {reg.intercept_}\")\n",
    "\n",
    "print(\"--------------------------------------------------------\")\n",
    "print(f'Model r^2-score: {r2_score(y_test, reg.predict(X_test))}')\n",
    "print(f'Model MSE: {mean_squared_error(y_test, reg.predict(X_test))}')"
   ]
  },
  {
   "cell_type": "markdown",
   "metadata": {},
   "source": [
    "### Use MinMaxScaler to train Leaner Regression Model"
   ]
  },
  {
   "cell_type": "code",
   "execution_count": 15,
   "metadata": {},
   "outputs": [
    {
     "name": "stdout",
     "output_type": "stream",
     "text": [
      "Printing the coefficient and y intercept:\n",
      "==> Coefficient: [-10.47489456   4.40174969  -0.15735494   2.39341594  -7.57645867\n",
      "  19.67024242  -0.68311581 -15.78007218   5.52186497  -5.91977522\n",
      "  -9.26413928   3.34889385 -18.08799274]\n",
      "==> Y-intercept: 27.556726963986343\n",
      "--------------------------------------------------------\n",
      "Model r^2-score: 0.6354638433202122\n",
      "Model MSE: 29.782245092302418\n"
     ]
    }
   ],
   "source": [
    "min_max_scaler = MinMaxScaler()\n",
    "X_minmax = min_max_scaler.fit_transform(boston.data)\n",
    "\n",
    "X_train, X_test, y_train, y_test = train_test_split(X_minmax, boston.target, test_size=0.25, random_state=0)\n",
    "\n",
    "\n",
    "reg = LinearRegression()\n",
    "reg.fit(X_train, y_train)\n",
    "print(\"Printing the coefficient and y intercept:\")\n",
    "print(f\"==> Coefficient: {reg.coef_}\")\n",
    "print(f\"==> Y-intercept: {reg.intercept_}\")\n",
    "\n",
    "print(\"--------------------------------------------------------\")\n",
    "print(f'Model r^2-score: {r2_score(y_test, reg.predict(X_test))}')\n",
    "print(f'Model MSE: {mean_squared_error(y_test, reg.predict(X_test))}')"
   ]
  },
  {
   "cell_type": "markdown",
   "metadata": {},
   "source": [
    "## Apply principle to boston housing features and then train the linear regression model\n",
    "\n",
    "- remove correlations among features with PCA \n",
    "- train a linear regression model with 3 new feature from PCA\n",
    "- report the r^2 and MSE for a system with PCA linear regression\n",
    "\n"
   ]
  },
  {
   "cell_type": "markdown",
   "metadata": {},
   "source": [
    "### Steps for doing PCA with Linear Regression for boston housing\n",
    "1. Split dataset: creat X_train, y_train, X_test, y_test\n",
    "\n",
    "\n",
    "2. Apply PCA on X_train and obtain the required number of principle components\n",
    "\n",
    "\n",
    "3. `pca = PCA(n_components=from step 2)`\n",
    "   \n",
    "   `X_train_reduced = pca.fit_transform(X_train)`\n",
    "   \n",
    "   \n",
    "4. Apply data normalization for `X_train_reduced` -> name it as `X_train_reduced_scaled`\n",
    "\n",
    "\n",
    "5. Fit the model linear regression `lr.fit(x_train_reduced_scaled)`\n",
    "\n",
    "\n",
    "6. Pass `X_test_reduced = pca.transform(X_test` -> the obtain `X_test_reduced_scaled`\n",
    "\n",
    "\n",
    "6. Pass `X_test_reduced_scaled` into `lr.predict(X_test_reduced_scaled)`"
   ]
  },
  {
   "cell_type": "code",
   "execution_count": 29,
   "metadata": {},
   "outputs": [
    {
     "name": "stdout",
     "output_type": "stream",
     "text": [
      "[[-119.81759621   -5.53898918]\n",
      " [-168.8093378    10.17445922]\n",
      " [-169.56557101   14.02169685]\n",
      " ...\n",
      " [-138.37536643    0.96806797]\n",
      " [-137.44500197    4.29816287]\n",
      " [-138.87215156    1.14494212]]\n",
      "[30910.01293092  6250.81428009]\n",
      "[0.80457219 0.16270557]\n",
      "[0.80457219 0.96727776]\n"
     ]
    }
   ],
   "source": [
    "# X = np.array([bos[i].values for i in bos.columns if i != 'Features'])\n",
    "import numpy as np\n",
    "from sklearn.decomposition import PCA\n",
    "import scipy\n",
    "\n",
    "pca = PCA(n_components=2)\n",
    "X_r = pca.fit_transform(bos)\n",
    "print(X_r)\n",
    "print(pca.explained_variance_)\n",
    "print(pca.explained_variance_ratio_)\n",
    "print(pca.explained_variance_ratio_.cumsum())"
   ]
  },
  {
   "cell_type": "markdown",
   "metadata": {},
   "source": [
    "(apply minmaxscaler or scaler then pass in PCA)"
   ]
  },
  {
   "cell_type": "code",
   "execution_count": 39,
   "metadata": {},
   "outputs": [
    {
     "name": "stdout",
     "output_type": "stream",
     "text": [
      "Model r^2-score: 0.10942786051559239\n",
      "Model MSE: 72.7588669724168\n"
     ]
    }
   ],
   "source": [
    "X_train, X_test, y_train, y_test = train_test_split(X, y, test_size=0.25, random_state=0)\n",
    "\n",
    "pca = PCA(n_components=2)\n",
    "\n",
    "X_train_reduced = pca.fit_transform(X_train)\n",
    "\n",
    "standard_scaler = StandardScaler()\n",
    "X_train_reduced_scaled = standard_scaler.fit_transform(boston.data)\n",
    "\n",
    "lr = LinearRegression()\n",
    "lr.fit(X_train_reduced_scaled, y_train)\n",
    "# lr.fit(X_train_reduced, y_train)\n",
    "\n",
    "X_test_reduced_scaled = pca.transform(X_test)\n",
    "\n",
    "print(f'Model r^2-score: {r2_score(y_test, lr.predict(X_test_reduced_scaled))}')\n",
    "print(f'Model MSE: {mean_squared_error(y_test, lr.predict(X_test_reduced_scaled))}')\n"
   ]
  },
  {
   "cell_type": "code",
   "execution_count": null,
   "metadata": {},
   "outputs": [],
   "source": []
  }
 ],
 "metadata": {
  "kernelspec": {
   "display_name": "Python 3",
   "language": "python",
   "name": "python3"
  },
  "language_info": {
   "codemirror_mode": {
    "name": "ipython",
    "version": 3
   },
   "file_extension": ".py",
   "mimetype": "text/x-python",
   "name": "python",
   "nbconvert_exporter": "python",
   "pygments_lexer": "ipython3",
   "version": "3.7.4"
  }
 },
 "nbformat": 4,
 "nbformat_minor": 2
}
